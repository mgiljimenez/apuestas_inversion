{
 "cells": [
  {
   "cell_type": "code",
   "execution_count": 1,
   "metadata": {},
   "outputs": [],
   "source": [
    "#Importacion de librerias\n",
    "from selenium import webdriver\n",
    "from bs4 import BeautifulSoup\n",
    "import datetime\n",
    "\n",
    "class busqueda_inversion():\n",
    "    \"\"\"Clase con la que se realiza el webscrapping y se encuentran las posibles inversiones, su inversion y rentabilidad\"\"\"\n",
    "    def __init__(self):\n",
    "        pass\n",
    "    # Importamos todo el código DOM de la web de EEUU\n",
    "    def descargar_datos(url):\n",
    "        \"\"\"\"\"\"\n",
    "        configuration_driver = webdriver.ChromeOptions()\n",
    "        configuration_driver.add_argument('--headless')\n",
    "        driver = webdriver.Chrome(options=configuration_driver)\n",
    "        driver.get(url)\n",
    "        soup = BeautifulSoup(driver.page_source, 'lxml')\n",
    "        driver.close()\n",
    "        #Extraemos los dos bloques div que contienen las dos tablas a explorar y las guardamos en tabla1 y tabla2\n",
    "        return(soup)"
   ]
  }
 ],
 "metadata": {
  "kernelspec": {
   "display_name": "Python 3",
   "language": "python",
   "name": "python3"
  },
  "language_info": {
   "codemirror_mode": {
    "name": "ipython",
    "version": 3
   },
   "file_extension": ".py",
   "mimetype": "text/x-python",
   "name": "python",
   "nbconvert_exporter": "python",
   "pygments_lexer": "ipython3",
   "version": "3.7.4"
  },
  "orig_nbformat": 4
 },
 "nbformat": 4,
 "nbformat_minor": 2
}
