{
 "cells": [
  {
   "cell_type": "code",
   "execution_count": 28,
   "metadata": {},
   "outputs": [],
   "source": [
    "#Importacion de librerias\n",
    "from selenium import webdriver\n",
    "from bs4 import BeautifulSoup\n",
    "import datetime\n",
    "\n",
    "class busqueda_inversion():\n",
    "    \"\"\"Clase con la que se realiza el webscrapping y se encuentran las posibles inversiones, su inversion y rentabilidad\"\"\"\n",
    "    def __init__(self):\n",
    "        pass\n",
    "    # Importamos todo el código DOM de la web de EEUU\n",
    "    def descargar_datos(url):\n",
    "        \"\"\"\"\"\"\n",
    "        configuration_driver = webdriver.ChromeOptions()\n",
    "        # configuration_driver.add_argument('--headless')\n",
    "        driver = webdriver.Chrome(options=configuration_driver)\n",
    "        driver.get(url)\n",
    "        soup = BeautifulSoup(driver.page_source, 'lxml')\n",
    "        driver.close()\n",
    "        #Extraemos los dos bloques div que contienen las dos tablas a explorar y las guardamos en tabla1 y tabla2\n",
    "        return(soup)"
   ]
  },
  {
   "cell_type": "code",
   "execution_count": 29,
   "metadata": {},
   "outputs": [],
   "source": [
    "datos_descargados=busqueda_inversion.descargar_datos(\"https://es.surebet.com/surebets\")"
   ]
  },
  {
   "cell_type": "code",
   "execution_count": 30,
   "metadata": {},
   "outputs": [],
   "source": [
    "eventos=datos_descargados.find_all(\"tbody\", class_=\"surebet_record\")"
   ]
  },
  {
   "cell_type": "code",
   "execution_count": 36,
   "metadata": {},
   "outputs": [],
   "source": [
    "rentabilidad_lista=[]\n",
    "for rentabilidad in eventos:\n",
    "    rentabilidad_lista.append(rentabilidad.find(\"span\", class_=\"profit\").text)"
   ]
  },
  {
   "cell_type": "code",
   "execution_count": 39,
   "metadata": {},
   "outputs": [],
   "source": [
    "deporte_lista=[]\n",
    "for deporte in eventos:\n",
    "    deporte_lista.append(deporte.find(\"span\", class_=\"minor\").text)"
   ]
  },
  {
   "cell_type": "code",
   "execution_count": 55,
   "metadata": {},
   "outputs": [
    {
     "name": "stdout",
     "output_type": "stream",
     "text": [
      "[<a class=\"btn-site\" data-popup='[\"_blank\",\"menubar=0,resizable=1,width=800,height=460\"]' href=\"/calculator/show/HYxFdx2NoOA\" rel=\"noopener\" target=\"_blank\" title=\"Calculadora de apuestas seguras\"><i class=\"fa fa-calculator\"></i></a>, <a href=\"/nav/bookie/bodog_com\" rel=\"noopener\" target=\"_blank\">Bodog <span class=\"minor\">(EN)</span></a>, <a href=\"/nav/bookie/pinnaclesports\" rel=\"noopener\" target=\"_blank\">Pin​nacle</a>]\n",
      "[<a class=\"btn-site\" data-popup='[\"_blank\",\"menubar=0,resizable=1,width=800,height=460\"]' href=\"/calculator/show/HStk8x0iY24djaCI\" rel=\"noopener\" target=\"_blank\" title=\"Calculadora de apuestas seguras\"><i class=\"fa fa-calculator\"></i></a>, <a href=\"/nav/bookie/frapapa\" rel=\"noopener\" target=\"_blank\">Fra​papa</a>, <a href=\"/nav/bookie/parimatch\" rel=\"noopener\" target=\"_blank\">Pari​match</a>, <a href=\"/nav/bookie/pinnaclesports\" rel=\"noopener\" target=\"_blank\">Pin​nacle</a>]\n",
      "[<a class=\"btn-site\" data-popup='[\"_blank\",\"menubar=0,resizable=1,width=800,height=460\"]' href=\"/calculator/show/HO3iJRZhPmEbvlo4\" rel=\"noopener\" target=\"_blank\" title=\"Calculadora de apuestas seguras\"><i class=\"fa fa-calculator\"></i></a>, <a href=\"/nav/bookie/pinnaclesports\" rel=\"noopener\" target=\"_blank\">Pin​nacle</a>, <a href=\"/nav/bookie/winbet_ro\" rel=\"noopener\" target=\"_blank\">Win​bet <span class=\"minor\">(RO)</span></a>, <a href=\"/nav/bookie/titanbet\" rel=\"noopener\" target=\"_blank\">Titan​Bet</a>]\n",
      "[<a class=\"btn-site\" data-popup='[\"_blank\",\"menubar=0,resizable=1,width=800,height=460\"]' href=\"/calculator/show/GLrW2RhEOJIYNv78\" rel=\"noopener\" target=\"_blank\" title=\"Calculadora de apuestas seguras\"><i class=\"fa fa-calculator\"></i></a>, <a href=\"/nav/bookie/pinnaclesports\" rel=\"noopener\" target=\"_blank\">Pin​nacle</a>, <a href=\"/nav/bookie/suprabets\" rel=\"noopener\" target=\"_blank\">Supra​bets</a>, <a href=\"/nav/bookie/vbet\" rel=\"noopener\" target=\"_blank\">V​Bet</a>]\n",
      "[<a class=\"btn-site\" data-popup='[\"_blank\",\"menubar=0,resizable=1,width=800,height=460\"]' href=\"/calculator/show/G3wHXhjUmncbqpZt\" rel=\"noopener\" target=\"_blank\" title=\"Calculadora de apuestas seguras\"><i class=\"fa fa-calculator\"></i></a>, <a href=\"/nav/bookie/mozzartbet\" rel=\"noopener\" target=\"_blank\">Moz​zart</a>, <a href=\"/nav/bookie/vbet\" rel=\"noopener\" target=\"_blank\">V​Bet</a>, <a href=\"/nav/bookie/pinnaclesports\" rel=\"noopener\" target=\"_blank\">Pin​nacle</a>]\n",
      "[<a class=\"btn-site\" data-popup='[\"_blank\",\"menubar=0,resizable=1,width=800,height=460\"]' href=\"/calculator/show/GYUq2B0S1Y8Nen3v\" rel=\"noopener\" target=\"_blank\" title=\"Calculadora de apuestas seguras\"><i class=\"fa fa-calculator\"></i></a>, <a href=\"/nav/bookie/versus\" rel=\"noopener\" target=\"_blank\">Ver​sus <span class=\"minor\">(ES)</span></a>, <a href=\"/nav/bookie/pinnaclesports\" rel=\"noopener\" target=\"_blank\">Pin​nacle</a>, <a href=\"/nav/bookie/betwgb\" rel=\"noopener\" target=\"_blank\">Betwgb</a>]\n",
      "[<a class=\"btn-site\" data-popup='[\"_blank\",\"menubar=0,resizable=1,width=800,height=460\"]' href=\"/calculator/show/GiX2gh1o-Kocle-w\" rel=\"noopener\" target=\"_blank\" title=\"Calculadora de apuestas seguras\"><i class=\"fa fa-calculator\"></i></a>, <a href=\"/nav/bookie/pinnaclesports\" rel=\"noopener\" target=\"_blank\">Pin​nacle</a>, <a href=\"/nav/bookie/1bet\" rel=\"noopener\" target=\"_blank\">1​Bet</a>, <a href=\"/nav/bookie/pokerstars\" rel=\"noopener\" target=\"_blank\">Poker​Stars</a>]\n",
      "[<a class=\"btn-site\" data-popup='[\"_blank\",\"menubar=0,resizable=1,width=800,height=460\"]' href=\"/calculator/show/HICPthxIVi0cReoy\" rel=\"noopener\" target=\"_blank\" title=\"Calculadora de apuestas seguras\"><i class=\"fa fa-calculator\"></i></a>, <a href=\"/nav/bookie/pinnaclesports\" rel=\"noopener\" target=\"_blank\">Pin​nacle</a>, <a href=\"/nav/bookie/livescorebet_uk\" rel=\"noopener\" target=\"_blank\">Livescore​bet <span class=\"minor\">(UK)</span></a>, <a href=\"/nav/bookie/betfirst\" rel=\"noopener\" target=\"_blank\">Bet​first <span class=\"minor\">(BE)</span></a>]\n",
      "[<a class=\"btn-site\" data-popup='[\"_blank\",\"menubar=0,resizable=1,width=800,height=460\"]' href=\"/calculator/show/HMEtMxzo28Ec6vzU\" rel=\"noopener\" target=\"_blank\" title=\"Calculadora de apuestas seguras\"><i class=\"fa fa-calculator\"></i></a>, <a href=\"/nav/bookie/leovegas_ca\" rel=\"noopener\" target=\"_blank\">Leo​Vegas</a>, <a href=\"/nav/bookie/pinnaclesports\" rel=\"noopener\" target=\"_blank\">Pin​nacle</a>, <a href=\"/nav/bookie/tennisi\" rel=\"noopener\" target=\"_blank\">Ten​nisi</a>]\n",
      "[<a class=\"btn-site\" data-popup='[\"_blank\",\"menubar=0,resizable=1,width=800,height=460\"]' href=\"/calculator/show/FdDWAxShldb7avlJ\" rel=\"noopener\" target=\"_blank\" title=\"Calculadora de apuestas seguras\"><i class=\"fa fa-calculator\"></i></a>, <a href=\"/nav/bookie/melbet\" rel=\"noopener\" target=\"_blank\">Mel​Bet</a>, <a href=\"/nav/bookie/pinnaclesports\" rel=\"noopener\" target=\"_blank\">Pin​nacle</a>, <a href=\"/nav/bookie/unibet\" rel=\"noopener\" target=\"_blank\">Uni​Bet</a>]\n",
      "[<a class=\"btn-site\" data-popup='[\"_blank\",\"menubar=0,resizable=1,width=800,height=460\"]' href=\"/calculator/show/HSjezxi61rsYRUxe\" rel=\"noopener\" target=\"_blank\" title=\"Calculadora de apuestas seguras\"><i class=\"fa fa-calculator\"></i></a>, <a href=\"/nav/bookie/asianodds88\" rel=\"noopener\" target=\"_blank\">Asian​Odds</a>, <a href=\"/nav/bookie/pinnaclesports\" rel=\"noopener\" target=\"_blank\">Pin​nacle</a>, <a href=\"/nav/bookie/playpix\" rel=\"noopener\" target=\"_blank\">Playpix</a>]\n",
      "[<a class=\"btn-site\" data-popup='[\"_blank\",\"menubar=0,resizable=1,width=800,height=460\"]' href=\"/calculator/show/FKLr9gMuHGkGuO71\" rel=\"noopener\" target=\"_blank\" title=\"Calculadora de apuestas seguras\"><i class=\"fa fa-calculator\"></i></a>, <a href=\"/nav/bookie/pinnaclesports\" rel=\"noopener\" target=\"_blank\">Pin​nacle</a>, <a href=\"/nav/bookie/n1bet_ng\" rel=\"noopener\" target=\"_blank\">N1​bet <span class=\"minor\">(NG)</span></a>, <a href=\"/nav/bookie/germaniasport\" rel=\"noopener\" target=\"_blank\">Ger​ma​ni​a <span class=\"minor\">(HR)</span></a>]\n",
      "[<a class=\"btn-site\" data-popup='[\"_blank\",\"menubar=0,resizable=1,width=800,height=460\"]' href=\"/calculator/show/BhsPKPrl1DUH8fv-\" rel=\"noopener\" target=\"_blank\" title=\"Calculadora de apuestas seguras\"><i class=\"fa fa-calculator\"></i></a>, <a href=\"/nav/bookie/versus\" rel=\"noopener\" target=\"_blank\">Ver​sus <span class=\"minor\">(ES)</span></a>, <a href=\"/nav/bookie/betsul\" rel=\"noopener\" target=\"_blank\">Betsul</a>, <a href=\"/nav/bookie/pinnaclesports\" rel=\"noopener\" target=\"_blank\">Pin​nacle</a>]\n",
      "[<a class=\"btn-site\" data-popup='[\"_blank\",\"menubar=0,resizable=1,width=800,height=460\"]' href=\"/calculator/show/HAIRoB0sw6MZMd5N\" rel=\"noopener\" target=\"_blank\" title=\"Calculadora de apuestas seguras\"><i class=\"fa fa-calculator\"></i></a>, <a href=\"/nav/bookie/mostbet\" rel=\"noopener\" target=\"_blank\">Most​Bet</a>, <a href=\"/nav/bookie/interwetten\" rel=\"noopener\" target=\"_blank\">Inter​wetten</a>, <a href=\"/nav/bookie/pinnaclesports\" rel=\"noopener\" target=\"_blank\">Pin​nacle</a>]\n",
      "[<a class=\"btn-site\" data-popup='[\"_blank\",\"menubar=0,resizable=1,width=800,height=460\"]' href=\"/calculator/show/FKMaKRov8W4RNv5P\" rel=\"noopener\" target=\"_blank\" title=\"Calculadora de apuestas seguras\"><i class=\"fa fa-calculator\"></i></a>, <a href=\"/nav/bookie/pinnaclesports\" rel=\"noopener\" target=\"_blank\">Pin​nacle</a>, <a href=\"/nav/bookie/maxline\" rel=\"noopener\" target=\"_blank\">Max​Line</a>, <a href=\"/nav/bookie/lvbet\" rel=\"noopener\" target=\"_blank\">Lv​bet</a>]\n",
      "[<a class=\"btn-site\" data-popup='[\"_blank\",\"menubar=0,resizable=1,width=800,height=460\"]' href=\"/calculator/show/HT_PxBuqlxEciO9j\" rel=\"noopener\" target=\"_blank\" title=\"Calculadora de apuestas seguras\"><i class=\"fa fa-calculator\"></i></a>, <a href=\"/nav/bookie/suprabets\" rel=\"noopener\" target=\"_blank\">Supra​bets</a>, <a href=\"/nav/bookie/pinnaclesports\" rel=\"noopener\" target=\"_blank\">Pin​nacle</a>, <a href=\"/nav/bookie/888sport_it\" rel=\"noopener\" target=\"_blank\">888​sport <span class=\"minor\">(IT)</span></a>]\n",
      "[<a class=\"btn-site\" data-popup='[\"_blank\",\"menubar=0,resizable=1,width=800,height=460\"]' href=\"/calculator/show/COt4VhEh2PYRI6Iq\" rel=\"noopener\" target=\"_blank\" title=\"Calculadora de apuestas seguras\"><i class=\"fa fa-calculator\"></i></a>, <a href=\"/nav/bookie/mozzartbet\" rel=\"noopener\" target=\"_blank\">Moz​zart</a>, <a href=\"/nav/bookie/pinnaclesports\" rel=\"noopener\" target=\"_blank\">Pin​nacle</a>, <a href=\"/nav/bookie/rivalry\" rel=\"noopener\" target=\"_blank\">Ri​valry</a>]\n",
      "[<a class=\"btn-site\" data-popup='[\"_blank\",\"menubar=0,resizable=1,width=800,height=460\"]' href=\"/calculator/show/HK58TBxwCvcc9sqO\" rel=\"noopener\" target=\"_blank\" title=\"Calculadora de apuestas seguras\"><i class=\"fa fa-calculator\"></i></a>, <a href=\"/nav/bookie/pinnaclesports\" rel=\"noopener\" target=\"_blank\">Pin​nacle</a>, <a href=\"/nav/bookie/1xbet\" rel=\"noopener\" target=\"_blank\">1x​Bet</a>, <a href=\"/nav/bookie/cashpoint\" rel=\"noopener\" target=\"_blank\">Cash​point</a>]\n",
      "[<a class=\"btn-site\" data-popup='[\"_blank\",\"menubar=0,resizable=1,width=800,height=460\"]' href=\"/calculator/show/HCMkPR1wOSoZyIdw\" rel=\"noopener\" target=\"_blank\" title=\"Calculadora de apuestas seguras\"><i class=\"fa fa-calculator\"></i></a>, <a href=\"/nav/bookie/melbet\" rel=\"noopener\" target=\"_blank\">Mel​Bet</a>, <a href=\"/nav/bookie/betfury\" rel=\"noopener\" target=\"_blank\">Bet​Fury</a>, <a href=\"/nav/bookie/pinnaclesports\" rel=\"noopener\" target=\"_blank\">Pin​nacle</a>]\n",
      "[<a class=\"btn-site\" data-popup='[\"_blank\",\"menubar=0,resizable=1,width=800,height=460\"]' href=\"/calculator/show/HNcDAhnLK64daDPZ\" rel=\"noopener\" target=\"_blank\" title=\"Calculadora de apuestas seguras\"><i class=\"fa fa-calculator\"></i></a>, <a href=\"/nav/bookie/betwarrior\" rel=\"noopener\" target=\"_blank\">Bet​Warrior</a>, <a href=\"/nav/bookie/pinnaclesports\" rel=\"noopener\" target=\"_blank\">Pin​nacle</a>, <a href=\"/nav/bookie/fulltbet\" rel=\"noopener\" target=\"_blank\">Fullt​bet</a>]\n",
      "[<a class=\"btn-site\" data-popup='[\"_blank\",\"menubar=0,resizable=1,width=800,height=460\"]' href=\"/calculator/show/G-XGsRwWYlQ\" rel=\"noopener\" target=\"_blank\" title=\"Calculadora de apuestas seguras\"><i class=\"fa fa-calculator\"></i></a>, <a href=\"/nav/bookie/olimp\" rel=\"noopener\" target=\"_blank\">Olimp</a>, <a href=\"/nav/bookie/pinnaclesports\" rel=\"noopener\" target=\"_blank\">Pin​nacle</a>]\n",
      "[<a class=\"btn-site\" data-popup='[\"_blank\",\"menubar=0,resizable=1,width=800,height=460\"]' href=\"/calculator/show/HN28tB2jsAg\" rel=\"noopener\" target=\"_blank\" title=\"Calculadora de apuestas seguras\"><i class=\"fa fa-calculator\"></i></a>, <a href=\"/nav/bookie/lsbet\" rel=\"noopener\" target=\"_blank\">Ls​Bet</a>, <a href=\"/nav/bookie/pinnaclesports\" rel=\"noopener\" target=\"_blank\">Pin​nacle</a>]\n",
      "[<a class=\"btn-site\" data-popup='[\"_blank\",\"menubar=0,resizable=1,width=800,height=460\"]' href=\"/calculator/show/GTJmOBpDjUsYuyMD\" rel=\"noopener\" target=\"_blank\" title=\"Calculadora de apuestas seguras\"><i class=\"fa fa-calculator\"></i></a>, <a href=\"/nav/bookie/lvbet\" rel=\"noopener\" target=\"_blank\">Lv​bet</a>, <a href=\"/nav/bookie/zenit\" rel=\"noopener\" target=\"_blank\">Zenit</a>, <a href=\"/nav/bookie/pinnaclesports\" rel=\"noopener\" target=\"_blank\">Pin​nacle</a>]\n",
      "[<a class=\"btn-site\" data-popup='[\"_blank\",\"menubar=0,resizable=1,width=800,height=460\"]' href=\"/calculator/show/FHDteBsdg5IbCPx-\" rel=\"noopener\" target=\"_blank\" title=\"Calculadora de apuestas seguras\"><i class=\"fa fa-calculator\"></i></a>, <a href=\"/nav/bookie/frapapa\" rel=\"noopener\" target=\"_blank\">Fra​papa</a>, <a href=\"/nav/bookie/bingoboom\" rel=\"noopener\" target=\"_blank\">Bet​Boom</a>, <a href=\"/nav/bookie/pinnaclesports\" rel=\"noopener\" target=\"_blank\">Pin​nacle</a>]\n",
      "[<a class=\"btn-site\" data-popup='[\"_blank\",\"menubar=0,resizable=1,width=800,height=460\"]' href=\"/calculator/show/HVYtJRxCm8QctHZ6\" rel=\"noopener\" target=\"_blank\" title=\"Calculadora de apuestas seguras\"><i class=\"fa fa-calculator\"></i></a>, <a href=\"/nav/bookie/leon\" rel=\"noopener\" target=\"_blank\">Leon</a>, <a href=\"/nav/bookie/cashpoint\" rel=\"noopener\" target=\"_blank\">Cash​point</a>, <a href=\"/nav/bookie/pinnaclesports\" rel=\"noopener\" target=\"_blank\">Pin​nacle</a>]\n"
     ]
    }
   ],
   "source": [
    "for casa in eventos:\n",
    "    print(casa.find_all(\"a\", target=\"_blank\", rel=\"noopener\"))"
   ]
  },
  {
   "cell_type": "code",
   "execution_count": 40,
   "metadata": {},
   "outputs": [
    {
     "data": {
      "text/plain": [
       "['(EN)',\n",
       " 'Fútbol',\n",
       " 'Hockey',\n",
       " 'Fútbol',\n",
       " 'Fútbol',\n",
       " '(ES)',\n",
       " 'Fútbol',\n",
       " 'Baloncesto',\n",
       " 'Fútbol',\n",
       " 'Fútbol',\n",
       " 'Fútbol',\n",
       " 'Fútbol',\n",
       " '(ES)',\n",
       " 'Fútbol',\n",
       " 'Fútbol',\n",
       " 'Fútbol',\n",
       " 'Fútbol',\n",
       " 'Hockey',\n",
       " 'Fútbol',\n",
       " 'Fútbol',\n",
       " 'Tenis',\n",
       " 'Baloncesto',\n",
       " 'Fútbol',\n",
       " 'Fútbol',\n",
       " 'Fútbol']"
      ]
     },
     "execution_count": 40,
     "metadata": {},
     "output_type": "execute_result"
    }
   ],
   "source": [
    "deporte_lista"
   ]
  },
  {
   "cell_type": "code",
   "execution_count": 7,
   "metadata": {},
   "outputs": [
    {
     "data": {
      "text/plain": [
       "25"
      ]
     },
     "execution_count": 7,
     "metadata": {},
     "output_type": "execute_result"
    }
   ],
   "source": [
    "len(datos_descargados.find_all(\"tbody\", class_=\"surebet_record\"))"
   ]
  }
 ],
 "metadata": {
  "kernelspec": {
   "display_name": "Python 3",
   "language": "python",
   "name": "python3"
  },
  "language_info": {
   "codemirror_mode": {
    "name": "ipython",
    "version": 3
   },
   "file_extension": ".py",
   "mimetype": "text/x-python",
   "name": "python",
   "nbconvert_exporter": "python",
   "pygments_lexer": "ipython3",
   "version": "3.7.4"
  },
  "orig_nbformat": 4
 },
 "nbformat": 4,
 "nbformat_minor": 2
}
