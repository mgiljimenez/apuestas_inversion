{
 "cells": [
  {
   "cell_type": "code",
   "execution_count": 19,
   "metadata": {},
   "outputs": [],
   "source": [
    "import requests\n",
    "\n",
    "token_telegram=\"6551829199:AAF7CWmJlBOrjRLzZwao3pwrdo03Z0gLfdA\"\n",
    "chat_id_telegram=\"-905071256\"\n",
    "\n",
    "class send_message:\n",
    "    \"\"\"Esta clase se conecta a la API de Telegram y hace un POST de un mensaje\"\"\"\n",
    "    def __init__(self):\n",
    "        pass\n",
    "    def enviar_notificacion(mensaje):\n",
    "        \"\"\"Envío de un mensaje concreto.\n",
    "        -Input: mensaje\n",
    "        -Output: Envío a telegram del mensaje\"\"\"\n",
    "        requests.post(\"https://api.telegram.org/bot\"+token_telegram+\"/sendMessage\",\n",
    "                    data={\"chat_id\": chat_id_telegram, \"text\":mensaje, \"parse_mode\":\"html\"})\n",
    "        print(\"Message sent OK\")\n",
    "\n",
    "class plantillas:\n",
    "    \"\"\"Esta clase contiene las plantillas usadas para el envío de notificaciones a telegram\"\"\"\n",
    "    def __init__(self):\n",
    "        pass\n",
    "    def mensaje_inicio():\n",
    "        \"\"\"Mensaje de inicio. Se envío antes de enviar cada actualización al grupo como recordatorio\"\"\"\n",
    "        mensaje = (f\"\"\"‼️ <strong><u>Nuevas oportunidades de apuesta</u></strong> ‼️\n",
    "💡Se recuerda que el inversor debe comprobar siempre la veracidad de los datos y que la inversión la realiza asumiendo sus propios <b>riesgos y responsabilidad</b>💡\"\"\")\n",
    "        return mensaje\n",
    "    def mensaje_apuesta(casa1, mul1, casa2, mul2, fecha, rentabilidad):\n",
    "        \"\"\"Plantilla para notificar al usuario una posibilidad de inversión rentable\"\"\"\n",
    "        mensaje = (f\"\"\"‼️ <strong><u>Rentabilidad:</u></strong> {rentabilidad}\n",
    "🏛️<b>Casa 1:</b> {casa1} : {mul1} \n",
    "🏛️<b>Casa 2:</b> {casa2} : {mul2} \n",
    "📅<b>Fecha:</b> {fecha}\"\"\")\n",
    "        return mensaje\n"
   ]
  },
  {
   "cell_type": "code",
   "execution_count": 18,
   "metadata": {},
   "outputs": [
    {
     "name": "stdout",
     "output_type": "stream",
     "text": [
      "Message sent OK\n"
     ]
    }
   ],
   "source": [
    "send_message.enviar_notificacion(plantillas.mensaje_apuesta(\"1xbet\",2.5,\"Bwin\",3.0,\"20/09/2023\",\"6%\"))"
   ]
  }
 ],
 "metadata": {
  "kernelspec": {
   "display_name": "Python 3",
   "language": "python",
   "name": "python3"
  },
  "language_info": {
   "codemirror_mode": {
    "name": "ipython",
    "version": 3
   },
   "file_extension": ".py",
   "mimetype": "text/x-python",
   "name": "python",
   "nbconvert_exporter": "python",
   "pygments_lexer": "ipython3",
   "version": "3.7.4"
  },
  "orig_nbformat": 4
 },
 "nbformat": 4,
 "nbformat_minor": 2
}
